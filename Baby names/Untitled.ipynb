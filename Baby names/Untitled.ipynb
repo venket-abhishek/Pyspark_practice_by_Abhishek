{
 "cells": [
  {
   "cell_type": "code",
   "execution_count": 2,
   "id": "5014e2e7",
   "metadata": {},
   "outputs": [],
   "source": [
    "import csv\n",
    "import random\n",
    "\n",
    "def generate_random_data(num_records):\n",
    "  data = []\n",
    "  countries = [\"United States\", \"United Kingdom\", \"Australia\", \"Mexico\", \"Brazil\", \"Argentina\", \"Japan\", \"India\", \"South Korea\"]\n",
    "  genders = [\"Female\", \"Male\"]\n",
    "  for _ in range(num_records):\n",
    "    year = random.randint(2010, 2023)\n",
    "    first_name = f\"Name{random.randint(1, 1000)}\"\n",
    "    country = random.choice(countries)\n",
    "    sex = random.choice(genders)\n",
    "    count = random.randint(100, 10000)\n",
    "    data.append([year, first_name, country, sex, count])\n",
    "  return data\n",
    "\n",
    "def create_csv(filename, data):\n",
    "  with open(filename, 'w', newline='') as csvfile:\n",
    "    writer = csv.writer(csvfile)\n",
    "    writer.writerow(['year', 'first_name', 'country', 'sex', 'count'])\n",
    "    writer.writerows(data)\n",
    "\n",
    "\n"
   ]
  },
  {
   "cell_type": "code",
   "execution_count": 4,
   "id": "a451d22b",
   "metadata": {},
   "outputs": [],
   "source": [
    "# Generate data for three CSV files\n",
    "data1 = generate_random_data(33670)\n",
    "data2 = generate_random_data(54535)\n",
    "data3 = generate_random_data(66440)\n",
    "\n",
    "# Create CSV files\n",
    "create_csv('baby_names1.csv', data1)\n",
    "create_csv('baby_names2.csv', data2)\n",
    "create_csv('baby_names3.csv', data3)"
   ]
  },
  {
   "cell_type": "code",
   "execution_count": null,
   "id": "57566434",
   "metadata": {},
   "outputs": [],
   "source": []
  }
 ],
 "metadata": {
  "kernelspec": {
   "display_name": "Python 3 (ipykernel)",
   "language": "python",
   "name": "python3"
  },
  "language_info": {
   "codemirror_mode": {
    "name": "ipython",
    "version": 3
   },
   "file_extension": ".py",
   "mimetype": "text/x-python",
   "name": "python",
   "nbconvert_exporter": "python",
   "pygments_lexer": "ipython3",
   "version": "3.11.5"
  }
 },
 "nbformat": 4,
 "nbformat_minor": 5
}
